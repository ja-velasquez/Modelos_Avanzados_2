{
 "cells": [
  {
   "cell_type": "markdown",
   "metadata": {},
   "source": [
    "## MIIA-4203 MODELOS AVANZADOS PARA ANÁLISIS DE DATOS II\n",
    "\n",
    "\n",
    "# Introducción al aprendizaje computacional\n",
    "\n",
    "## Actividad 1\n",
    "\n",
    "### Profesor: Camilo Franco (c.franco31@uniandes.edu.co)\n",
    "\n",
    "\n",
    "\n",
    "En esta actividad vamos a estudiar una primera aproximación a los modelos de aprendizaje computacional, utilizando como base un problema de clasifiación y el modelo de clasificación logístico.\n"
   ]
  },
  {
   "cell_type": "markdown",
   "metadata": {},
   "source": [
    "## Actividad en grupos\n",
    "### Nombres: Fernando Perez - Julián Velásquez\n",
    "\n",
    "**Instrucciones:** Por favor escriba los nombres de los integrantes de su grupo. Esta actividad debe ser entregada a más tardar dentro de 8 días, con la respuesta para los ejercicios y preguntas en cada numeral.\n",
    "\n"
   ]
  },
  {
   "cell_type": "markdown",
   "metadata": {},
   "source": [
    "## 1. Aprendizaje computacional\n",
    "\n",
    "El aprendizaje computacional o **Machine Learning** (ML), utiliza algoritmos con parámetros libres que se puedan ajustar de manera automática, con el objetivo de mejorar el desempeño de los modelos a partir de la información disponible.\n",
    "\n",
    "El aprendizaje computacional se circunscribe en el campo de la Inteligencia Computacional, o lo que se conoce como Inteligencia Artificial, mediante la búsqueda de patrones a partir de los *Datos*. Entonces, los algoritmos desarrollados dentro del Machine Learning (ML a partir de ahora) se pueden entender como los bloques fundacionales que permiten aprender computacionalmente a partir de los datos. De esta manera, generalizando los datos en lugar de solo almacenarlos y devolver busquedas específicas, como en los sistemas relacionales de bases de datos.\n",
    "\n",
    "\n",
    "### Tipos de aprendizaje\n",
    "\n",
    "Los tipos de problemas sobre los que se trabaja en ML se pueden entender como de tipo **supervisado**, **no supervisado**, y **semi-supervisado**. \n",
    "\n",
    "**Aprendizaje supervisado**\n",
    "\n",
    "El aprendizaje supervisado se refiere a modelos, o conjuntos de algoritmos, que aproximan o estiman una función $f(x)$ que representa la relación entre la variable dependiente $Y$ (etiqueta o valor objetivo) y el conjunto de variables independientes $X$. Por ello a los algoritmos de tipo supervisado se les asocia usualmente con modelos predictivos, donde dado un conjunto de datos $X$, se puede predecir un nuevo valor de la variable dependiente $Y$. \n",
    "\n",
    "De acuerdo con el tipo de valores en $Y$, se pueden definir dos tipos principales de problemas y algoritmos para analizar los datos:\n",
    "\n",
    "- Problemas de clasificación\n",
    "\n",
    "Siempre que la variable $Y$ se refiera a un grupo de categorías (valores sin ningún orden en particular), como por ejemplo bueno/malo, pequeño/grande, la tarea de predecir $Y$ puede ser considerada como un problema de clasificación. En este sentido, las variables de salida se conocen como etiquetas o categorías.\n",
    "\n",
    "- Problemas de regresión\n",
    "\n",
    "Un problema de regresión consiste en estimar y/o predecir una variable dependiente (o valor objetivo) $Y$ con valores continuos. Por ejemplo, predecir el precio de una vivienda, de acciones, alimentos, etc. \n",
    "\n",
    "**Aprendizaje no-supervisado**\n",
    "    \n",
    "El aprendizaje no-supervisado considera problemas donde la variable dependiente $Y$, o las etiquetas para el conjunto de datos, no está disponible. Es decir, cuando $Y$ no está contenida en el conjunto de datos. Entonces, en lugar de estimar o predecir una variable, un algoritmo no-supervisado utiliza técnicas sobre el conjunto de datos de entrada $X$ para detectar patrones, encontrar reglas, o resumir y agrupar los datos. Usualmente, los algoritmos no-supervisados son utilizados para el análisis descriptivo y la modelación, donde se necesita una primera aproximación a los datos, desarrollar una intuición y extraer nuevo conocmiento que es desconocido para el analista y/o experto. \n",
    "\n",
    "En el aprendizaje no-supervisado, se tienen dos tareas principales, la reducción de dimensionalidad y el análisis de clustering.\n",
    "\n",
    "- Reducción de dimensionalidad \n",
    "\n",
    "La reducción de dimensionalidad busca encontrar la estructura subyacente de los datos, reduciendo la cantidad de información disponible en el conjunto de datos $X$. Por ejemlo, es muy conocido el análisis de componentes principales. \n",
    "\n",
    "- Clustering \n",
    "\n",
    "El análisis de clustering consiste en agrupar un conjunto de datos $X$ de manera que cada grupo contenga observaciones más similares entre sí que con las observaciones de otros grupos. Estos grupos son denominados *clusters*. Es una técnica bastante común para la exploración de los datos y su análisis. \n",
    "\n",
    "\n",
    "#### Otros tipos de aprendizaje\n",
    "\n",
    "Más allá de estos dos tipos de aprendizaje presentados anteriormente, existen otros tipos que son bastante útiles dependiendo de la naturaleza del problema. Por ejemplo, el **aprendizaje semi-supervisado** (https://medium.com/inside-machine-learning/placeholder-3557ebb3d470) o el **aprendizaje por refuerzo** (https://medium.com/machine-learning-for-humans/reinforcement-learning-6eacf258b265) "
   ]
  },
  {
   "cell_type": "markdown",
   "metadata": {},
   "source": [
    "## 2. Problema de clasificación: riesgo de default\n",
    "\n",
    "### 2.1 Datos\n",
    "\n",
    "Como hemos visto, una tarea muy usual dentro del ML es la de la clasificación. Pero antes, vamos a importar las bibliotecas que vamos a usar en este cuaderno."
   ]
  },
  {
   "cell_type": "code",
   "execution_count": 1,
   "metadata": {},
   "outputs": [],
   "source": [
    "# Algunos paquetes iniciales que vamos a utilizar\n",
    "import pandas as pd\n",
    "import numpy as np \n",
    "import matplotlib\n",
    "import matplotlib.pyplot as plt\n"
   ]
  },
  {
   "cell_type": "markdown",
   "metadata": {},
   "source": [
    "https://archive.ics.uci.edu/ml/datasets/statlog+(german+credit+data)"
   ]
  },
  {
   "cell_type": "code",
   "execution_count": 2,
   "metadata": {},
   "outputs": [],
   "source": [
    "data = pd.read_csv(\"germancredit.csv\")"
   ]
  },
  {
   "cell_type": "code",
   "execution_count": 3,
   "metadata": {},
   "outputs": [
    {
     "data": {
      "text/html": [
       "<div>\n",
       "<style scoped>\n",
       "    .dataframe tbody tr th:only-of-type {\n",
       "        vertical-align: middle;\n",
       "    }\n",
       "\n",
       "    .dataframe tbody tr th {\n",
       "        vertical-align: top;\n",
       "    }\n",
       "\n",
       "    .dataframe thead th {\n",
       "        text-align: right;\n",
       "    }\n",
       "</style>\n",
       "<table border=\"1\" class=\"dataframe\">\n",
       "  <thead>\n",
       "    <tr style=\"text-align: right;\">\n",
       "      <th></th>\n",
       "      <th>Default</th>\n",
       "      <th>checkingstatus1</th>\n",
       "      <th>duration</th>\n",
       "      <th>history</th>\n",
       "      <th>purpose</th>\n",
       "      <th>amount</th>\n",
       "      <th>savings</th>\n",
       "      <th>employ</th>\n",
       "      <th>installment</th>\n",
       "      <th>status</th>\n",
       "      <th>...</th>\n",
       "      <th>residence</th>\n",
       "      <th>property</th>\n",
       "      <th>age</th>\n",
       "      <th>otherplans</th>\n",
       "      <th>housing</th>\n",
       "      <th>cards</th>\n",
       "      <th>job</th>\n",
       "      <th>liable</th>\n",
       "      <th>tele</th>\n",
       "      <th>foreign</th>\n",
       "    </tr>\n",
       "  </thead>\n",
       "  <tbody>\n",
       "    <tr>\n",
       "      <td>0</td>\n",
       "      <td>0</td>\n",
       "      <td>A11</td>\n",
       "      <td>6</td>\n",
       "      <td>A34</td>\n",
       "      <td>A43</td>\n",
       "      <td>1169</td>\n",
       "      <td>A65</td>\n",
       "      <td>A75</td>\n",
       "      <td>4</td>\n",
       "      <td>A93</td>\n",
       "      <td>...</td>\n",
       "      <td>4</td>\n",
       "      <td>A121</td>\n",
       "      <td>67</td>\n",
       "      <td>A143</td>\n",
       "      <td>A152</td>\n",
       "      <td>2</td>\n",
       "      <td>A173</td>\n",
       "      <td>1</td>\n",
       "      <td>A192</td>\n",
       "      <td>A201</td>\n",
       "    </tr>\n",
       "    <tr>\n",
       "      <td>1</td>\n",
       "      <td>1</td>\n",
       "      <td>A12</td>\n",
       "      <td>48</td>\n",
       "      <td>A32</td>\n",
       "      <td>A43</td>\n",
       "      <td>5951</td>\n",
       "      <td>A61</td>\n",
       "      <td>A73</td>\n",
       "      <td>2</td>\n",
       "      <td>A92</td>\n",
       "      <td>...</td>\n",
       "      <td>2</td>\n",
       "      <td>A121</td>\n",
       "      <td>22</td>\n",
       "      <td>A143</td>\n",
       "      <td>A152</td>\n",
       "      <td>1</td>\n",
       "      <td>A173</td>\n",
       "      <td>1</td>\n",
       "      <td>A191</td>\n",
       "      <td>A201</td>\n",
       "    </tr>\n",
       "    <tr>\n",
       "      <td>2</td>\n",
       "      <td>0</td>\n",
       "      <td>A14</td>\n",
       "      <td>12</td>\n",
       "      <td>A34</td>\n",
       "      <td>A46</td>\n",
       "      <td>2096</td>\n",
       "      <td>A61</td>\n",
       "      <td>A74</td>\n",
       "      <td>2</td>\n",
       "      <td>A93</td>\n",
       "      <td>...</td>\n",
       "      <td>3</td>\n",
       "      <td>A121</td>\n",
       "      <td>49</td>\n",
       "      <td>A143</td>\n",
       "      <td>A152</td>\n",
       "      <td>1</td>\n",
       "      <td>A172</td>\n",
       "      <td>2</td>\n",
       "      <td>A191</td>\n",
       "      <td>A201</td>\n",
       "    </tr>\n",
       "    <tr>\n",
       "      <td>3</td>\n",
       "      <td>0</td>\n",
       "      <td>A11</td>\n",
       "      <td>42</td>\n",
       "      <td>A32</td>\n",
       "      <td>A42</td>\n",
       "      <td>7882</td>\n",
       "      <td>A61</td>\n",
       "      <td>A74</td>\n",
       "      <td>2</td>\n",
       "      <td>A93</td>\n",
       "      <td>...</td>\n",
       "      <td>4</td>\n",
       "      <td>A122</td>\n",
       "      <td>45</td>\n",
       "      <td>A143</td>\n",
       "      <td>A153</td>\n",
       "      <td>1</td>\n",
       "      <td>A173</td>\n",
       "      <td>2</td>\n",
       "      <td>A191</td>\n",
       "      <td>A201</td>\n",
       "    </tr>\n",
       "    <tr>\n",
       "      <td>4</td>\n",
       "      <td>1</td>\n",
       "      <td>A11</td>\n",
       "      <td>24</td>\n",
       "      <td>A33</td>\n",
       "      <td>A40</td>\n",
       "      <td>4870</td>\n",
       "      <td>A61</td>\n",
       "      <td>A73</td>\n",
       "      <td>3</td>\n",
       "      <td>A93</td>\n",
       "      <td>...</td>\n",
       "      <td>4</td>\n",
       "      <td>A124</td>\n",
       "      <td>53</td>\n",
       "      <td>A143</td>\n",
       "      <td>A153</td>\n",
       "      <td>2</td>\n",
       "      <td>A173</td>\n",
       "      <td>2</td>\n",
       "      <td>A191</td>\n",
       "      <td>A201</td>\n",
       "    </tr>\n",
       "  </tbody>\n",
       "</table>\n",
       "<p>5 rows × 21 columns</p>\n",
       "</div>"
      ],
      "text/plain": [
       "   Default checkingstatus1  duration history purpose  amount savings employ  \\\n",
       "0        0             A11         6     A34     A43    1169     A65    A75   \n",
       "1        1             A12        48     A32     A43    5951     A61    A73   \n",
       "2        0             A14        12     A34     A46    2096     A61    A74   \n",
       "3        0             A11        42     A32     A42    7882     A61    A74   \n",
       "4        1             A11        24     A33     A40    4870     A61    A73   \n",
       "\n",
       "   installment status  ... residence  property age  otherplans housing cards  \\\n",
       "0            4    A93  ...         4      A121  67        A143    A152     2   \n",
       "1            2    A92  ...         2      A121  22        A143    A152     1   \n",
       "2            2    A93  ...         3      A121  49        A143    A152     1   \n",
       "3            2    A93  ...         4      A122  45        A143    A153     1   \n",
       "4            3    A93  ...         4      A124  53        A143    A153     2   \n",
       "\n",
       "    job liable  tele foreign  \n",
       "0  A173      1  A192    A201  \n",
       "1  A173      1  A191    A201  \n",
       "2  A172      2  A191    A201  \n",
       "3  A173      2  A191    A201  \n",
       "4  A173      2  A191    A201  \n",
       "\n",
       "[5 rows x 21 columns]"
      ]
     },
     "execution_count": 3,
     "metadata": {},
     "output_type": "execute_result"
    }
   ],
   "source": [
    "data.head()"
   ]
  },
  {
   "cell_type": "code",
   "execution_count": 4,
   "metadata": {},
   "outputs": [
    {
     "data": {
      "text/plain": [
       "Default             int64\n",
       "checkingstatus1    object\n",
       "duration            int64\n",
       "history            object\n",
       "purpose            object\n",
       "amount              int64\n",
       "savings            object\n",
       "employ             object\n",
       "installment         int64\n",
       "status             object\n",
       "others             object\n",
       "residence           int64\n",
       "property           object\n",
       "age                 int64\n",
       "otherplans         object\n",
       "housing            object\n",
       "cards               int64\n",
       "job                object\n",
       "liable              int64\n",
       "tele               object\n",
       "foreign            object\n",
       "dtype: object"
      ]
     },
     "execution_count": 4,
     "metadata": {},
     "output_type": "execute_result"
    }
   ],
   "source": [
    "data.dtypes"
   ]
  },
  {
   "cell_type": "code",
   "execution_count": 5,
   "metadata": {},
   "outputs": [
    {
     "data": {
      "text/plain": [
       "0    700\n",
       "1    300\n",
       "Name: Default, dtype: int64"
      ]
     },
     "execution_count": 5,
     "metadata": {},
     "output_type": "execute_result"
    }
   ],
   "source": [
    "data.Default.value_counts()"
   ]
  },
  {
   "cell_type": "markdown",
   "metadata": {},
   "source": [
    "La clase positiva (default=1) tiene menos casos.  Además, es 5 veces más costoso clasificar a un usuario como bueno (Defualt=0) cuando es malo (Default=1), que clasificarlo como malo cuando es bueno."
   ]
  },
  {
   "cell_type": "code",
   "execution_count": 6,
   "metadata": {},
   "outputs": [
    {
     "data": {
      "text/plain": [
       "A201    963\n",
       "A202     37\n",
       "Name: foreign, dtype: int64"
      ]
     },
     "execution_count": 6,
     "metadata": {},
     "output_type": "execute_result"
    }
   ],
   "source": [
    "data.foreign.value_counts()"
   ]
  },
  {
   "cell_type": "markdown",
   "metadata": {},
   "source": [
    "Vemos que la mayoría de clientes de la base de datos son extranjeros."
   ]
  },
  {
   "cell_type": "markdown",
   "metadata": {},
   "source": [
    "## 2.2 Codificacion de variables categoricas"
   ]
  },
  {
   "cell_type": "code",
   "execution_count": 7,
   "metadata": {},
   "outputs": [
    {
     "name": "stdout",
     "output_type": "stream",
     "text": [
      "   Default  duration  amount  installment  residence  age  cards  liable  \\\n",
      "0        0         6    1169            4          4   67      2       1   \n",
      "1        1        48    5951            2          2   22      1       1   \n",
      "2        0        12    2096            2          3   49      1       2   \n",
      "3        0        42    7882            2          4   45      1       2   \n",
      "4        1        24    4870            3          4   53      2       2   \n",
      "\n",
      "   checkingstatus1_A11  checkingstatus1_A12  ...  housing_A152  housing_A153  \\\n",
      "0                    1                    0  ...             1             0   \n",
      "1                    0                    1  ...             1             0   \n",
      "2                    0                    0  ...             1             0   \n",
      "3                    1                    0  ...             0             1   \n",
      "4                    1                    0  ...             0             1   \n",
      "\n",
      "   job_A171  job_A172  job_A173  job_A174  tele_A191  tele_A192  foreign_A201  \\\n",
      "0         0         0         1         0          0          1             1   \n",
      "1         0         0         1         0          1          0             1   \n",
      "2         0         1         0         0          1          0             1   \n",
      "3         0         0         1         0          1          0             1   \n",
      "4         0         0         1         0          1          0             1   \n",
      "\n",
      "   foreign_A202  \n",
      "0             0  \n",
      "1             0  \n",
      "2             0  \n",
      "3             0  \n",
      "4             0  \n",
      "\n",
      "[5 rows x 62 columns]\n"
     ]
    }
   ],
   "source": [
    "credit_1 = data.copy()\n",
    "credit_1 = pd.get_dummies(credit_1, columns=['checkingstatus1','history','purpose','savings',\n",
    "                                   'employ','status','others','property','otherplans','housing','job','tele', \n",
    "                                   'foreign'], prefix = ['checkingstatus1','history','purpose','savings',\n",
    "                                   'employ','status','others','property','otherplans','housing','job','tele', \n",
    "                                   'foreign'])\n",
    "\n",
    "print(credit_1.head())"
   ]
  },
  {
   "cell_type": "code",
   "execution_count": 8,
   "metadata": {},
   "outputs": [
    {
     "data": {
      "text/plain": [
       "(1000, 61)"
      ]
     },
     "execution_count": 8,
     "metadata": {},
     "output_type": "execute_result"
    }
   ],
   "source": [
    "X = credit_1.iloc[:, 1:62]#[['duration','amount','installment','residence','age','cards','liable']]\n",
    "Y = credit_1.iloc[:, 0]\n",
    "X.shape"
   ]
  },
  {
   "cell_type": "markdown",
   "metadata": {},
   "source": [
    "### 3. Regresión logística\n",
    "\n",
    "Podemos estudiar un problema de clasificación desde una perspectiva probabilística, examinando una situación donde la variable respuesta ($Y_i$) consiste de dos categorías ($\\{0,1\\}$). La *regresión logística* estima la probabilidad de que una observación pertenezca a una de las dos categorías.\n",
    "\n",
    "Entonces se modela la función de probabilidad $p(Y_i=1)$ de tal manera que tome un valor entre 0 y 1. La función de regresión logística consiste en la función *sigmoide* ($\\sigma(\\cdot)$) $$ p(Y_i)=p(Y_i=1)=\\frac{e^{\\beta_0 + \\beta_1X_{1} + ... + \\beta_k X_{k}}}{1+e^{\\beta_0 + \\beta_1X_{1} + ... + \\beta_k X_{k}}}=\\frac{e^{Z_i}}{1+e^{Z_i}}=\\sigma(Z_i)$$\n",
    "donde se tiene que \n",
    "$$log\\frac{p(Y_i)}{1-p(Y_i)}=\\beta_0 + \\beta_1X_{1} + ... + \\beta_k X_{k}.  $$\n",
    "\n",
    "\n",
    "Por lo tanto, manteniendo todo lo demás constante, se puede estimar el cambio que una unidad extra en $X_1$ tiene sobre  el chance (o el *log-odds*) $log\\frac{p(Y_i)}{1-p(Y_i)}$. Esta estimación está dada por $\\hat \\beta_1$. \n",
    "\n",
    "\n",
    "Los coeficientes del modelo se pueden estimar por el método de máxima verosimilitud, buscando iterativamente estimadores que maximicen la función de verosimilitud: $$ F_{\\mathbf{\\beta}}=\\prod_{i:Y_i=1} p(Y_i)\\prod_{i':Y_{i'}=0}(1-p(Y_{i'})). $$\n",
    "\n",
    "\n",
    "Finalmente, la extensión del modelo logístico para múltiples clases o categorías ($C$) se hace calculando la probabilidad de una categoría ($C_i$) frente al resto y utilizando lo que se conoce como una función *softmax*: \n",
    "$$ \\sigma (Z_i )={\\frac {e^{Z_{i}}}{\\sum _{j=1}^{|C|}e^{Z_{j}}}}{\\text{ para }}i=1,\\dotsc ,|C|$$\n",
    "\n",
    "\n",
    "Miremos un ejemplo con nuestros datos sobre el comportamiento de los clientes del banco. Primero descargamos los paquetes que vamos a utilizar:"
   ]
  },
  {
   "cell_type": "code",
   "execution_count": 9,
   "metadata": {},
   "outputs": [],
   "source": [
    "from sklearn.linear_model import LogisticRegression\n",
    "from sklearn import model_selection"
   ]
  },
  {
   "cell_type": "markdown",
   "metadata": {},
   "source": [
    "Por defecto, la funcion `LogisticRegression()` encuentra una solución mediante el algoritmo de Broyden–Fletcher–Goldfarb–Shanno (BFGS):  https://en.wikipedia.org/wiki/Broyden%E2%80%93Fletcher%E2%80%93Goldfarb%E2%80%93Shanno_algorithm"
   ]
  },
  {
   "cell_type": "code",
   "execution_count": 10,
   "metadata": {},
   "outputs": [
    {
     "name": "stdout",
     "output_type": "stream",
     "text": [
      "[[ 2.45637422e-02  6.82219078e-05  2.14714996e-01 -1.14181758e-01\n",
      "  -6.69258961e-03 -4.16372295e-02 -9.80477167e-02  7.62760187e-01\n",
      "   2.90888151e-01 -1.09167116e-01 -1.17633787e+00  2.68811087e-01\n",
      "   2.63088691e-01 -1.65159331e-01 -1.62135457e-03 -5.96975738e-01\n",
      "   5.27428233e-01 -4.90556933e-01 -2.47869766e-02 -1.09261792e-01\n",
      "  -4.12790482e-01  1.11330705e-02  6.83164719e-02  1.95575762e-01\n",
      "  -4.16673484e-02  4.47533495e-02  4.57981707e-01  5.60507977e-02\n",
      "  -1.04634510e-01 -1.75249474e-01 -4.66005167e-01  6.11736203e-02\n",
      "   1.80746726e-01 -9.82223492e-03 -4.39658148e-01 -2.42966086e-02\n",
      "   1.42195863e-01  1.07068453e-01 -3.89229348e-01 -9.18916120e-02\n",
      "  -8.28150605e-02  9.16419983e-02 -2.40683583e-01 -3.76089212e-01\n",
      "  -5.09667523e-02 -2.81970255e-02  2.23396345e-01  2.29098338e-01\n",
      "   9.22156723e-02 -5.53170655e-01  9.82123009e-02 -3.97876095e-01\n",
      "   6.78071488e-02 -9.79992528e-03 -5.38388644e-02 -1.25500750e-01\n",
      "  -4.27171051e-02  2.54411072e-02 -2.57297752e-01 -2.92503986e-02\n",
      "  -2.02606246e-01]]\n"
     ]
    },
    {
     "name": "stderr",
     "output_type": "stream",
     "text": [
      "C:\\Users\\Fernando\\Anaconda3\\lib\\site-packages\\sklearn\\linear_model\\_logistic.py:764: ConvergenceWarning: lbfgs failed to converge (status=1):\n",
      "STOP: TOTAL NO. of ITERATIONS REACHED LIMIT.\n",
      "\n",
      "Increase the number of iterations (max_iter) or scale the data as shown in:\n",
      "    https://scikit-learn.org/stable/modules/preprocessing.html\n",
      "Please also refer to the documentation for alternative solver options:\n",
      "    https://scikit-learn.org/stable/modules/linear_model.html#logistic-regression\n",
      "  extra_warning_msg=_LOGISTIC_SOLVER_CONVERGENCE_MSG)\n"
     ]
    }
   ],
   "source": [
    "log = LogisticRegression(penalty='none', max_iter=100) \n",
    "log.fit(X, Y)\n",
    "y_pred_log = log.predict(X)\n",
    "log_coef = log.coef_\n",
    "print(log_coef)"
   ]
  },
  {
   "cell_type": "code",
   "execution_count": 11,
   "metadata": {},
   "outputs": [
    {
     "data": {
      "text/plain": [
       "array([100])"
      ]
     },
     "execution_count": 11,
     "metadata": {},
     "output_type": "execute_result"
    }
   ],
   "source": [
    "log.n_iter_"
   ]
  },
  {
   "cell_type": "markdown",
   "metadata": {},
   "source": [
    "### Ejercicio 3.1\n",
    "\n",
    "Ajuste las opciones de la funcion `LogisticRegression`para conseguir que la solucion converja. Puede examinar la documentación de Python: https://scikit-learn.org/stable/modules/linear_model.html#logistic-regression"
   ]
  },
  {
   "cell_type": "code",
   "execution_count": 12,
   "metadata": {},
   "outputs": [
    {
     "name": "stdout",
     "output_type": "stream",
     "text": [
      "[[ 2.86957326e-02  1.21489586e-04  2.81013574e-01  9.20603615e-03\n",
      "  -1.71782256e-02  2.57678523e-01  1.18642873e-01  5.96275092e-01\n",
      "   1.39782720e-01 -3.60109461e-01 -9.98461207e-01  4.91017536e-01\n",
      "   4.25713057e-01 -1.67456084e-01 -3.07304197e-01 -1.06448317e+00\n",
      "   6.25761992e-01 -1.16210263e+00 -2.70911863e-01 -2.21618963e-01\n",
      "  -2.32427412e-01  3.58061600e-02  2.74909828e-01  6.08121502e-01\n",
      "  -2.00080620e-01 -7.99708554e-02  4.03175217e-01  1.13551658e-01\n",
      "  -1.54109537e-02 -5.35753442e-01 -5.88075336e-01  4.28796163e-02\n",
      "   1.11512021e-01 -2.64037084e-02 -7.23747765e-01 -2.67530205e-02\n",
      "   2.90812016e-01 -9.24304226e-02 -5.80427214e-01 -2.40467236e-01\n",
      "  -4.52052018e-02  2.93968108e-01 -8.71275763e-01 -4.03238989e-01\n",
      "  -1.24645884e-01 -2.49065745e-01  1.54437760e-01 -8.44527564e-02\n",
      "   5.52424160e-02 -5.93302516e-01  5.92590350e-02 -3.50092795e-01\n",
      "  -3.31679096e-01 -1.78834979e-01 -1.08381834e-01 -1.16382242e-01\n",
      "  -2.18913802e-01 -1.69800939e-01 -4.52711917e-01  1.56638938e-01\n",
      "  -7.79151795e-01]]\n"
     ]
    }
   ],
   "source": [
    "log = LogisticRegression(penalty='none', max_iter=1000) \n",
    "log.fit(X, Y)\n",
    "y_pred_log = log.predict(X)\n",
    "log_coef = log.coef_\n",
    "print(log_coef)"
   ]
  },
  {
   "cell_type": "markdown",
   "metadata": {},
   "source": [
    "## Pregunta 3.2 \n",
    "\n",
    "Cuántas iteraciones necesitó?"
   ]
  },
  {
   "cell_type": "code",
   "execution_count": 13,
   "metadata": {},
   "outputs": [
    {
     "data": {
      "text/plain": [
       "array([436])"
      ]
     },
     "execution_count": 13,
     "metadata": {},
     "output_type": "execute_result"
    }
   ],
   "source": [
    "log.n_iter_"
   ]
  },
  {
   "cell_type": "markdown",
   "metadata": {},
   "source": [
    "En total se necesitarian 436 iteraciones para lograr que la solución converja."
   ]
  },
  {
   "cell_type": "markdown",
   "metadata": {},
   "source": [
    "## 4. Construccion de modelos predictivos"
   ]
  },
  {
   "cell_type": "markdown",
   "metadata": {},
   "source": [
    "Partimos los datos de manera aleatoria en un conjunto de entrenamiento y otro de prueba. De esta manera, estimamos los coeficientes sobre los datos de entrenamiento, y ese mismo modelo lo probamos sobre los datos de prueba con el fin de controlar que el modelo esté generalizando bien y no se sobreajuste a los datos.\n",
    "\n",
    "A continuación ejecutamos el codigo para obtener una partición con el 40% de los datos en el conjunto de prueba. Nótese que por defecto la funcion `train_test_split` sigue una partición estratificada, es decir, mantiene la distribución inicial de las clases en ambos conjuntos de entrenamiento y prueba:\n"
   ]
  },
  {
   "cell_type": "code",
   "execution_count": 14,
   "metadata": {},
   "outputs": [
    {
     "name": "stdout",
     "output_type": "stream",
     "text": [
      "Tamaño de CE, CP:  (600,) (400,)\n",
      "Observaciones de la clase positiva en entrenamiento: 182 y en prueba: 118\n"
     ]
    }
   ],
   "source": [
    "X_train, X_test, y_train, y_test = model_selection.train_test_split(X, Y, test_size=0.4, random_state=42)\n",
    "print(\"Tamaño de CE, CP: \", y_train.shape, y_test.shape)\n",
    "print(\"Observaciones de la clase positiva en entrenamiento: \" +str(sum(y_train)) +\" y en prueba: \" +str(sum(y_test)))"
   ]
  },
  {
   "cell_type": "markdown",
   "metadata": {},
   "source": [
    "Lo podemos verificar:"
   ]
  },
  {
   "cell_type": "code",
   "execution_count": 15,
   "metadata": {},
   "outputs": [
    {
     "name": "stdout",
     "output_type": "stream",
     "text": [
      "Tamaño de CE, CP:  (600,) (400,)\n",
      "Observaciones de la clase positiva en entrenamiento: 180 y en prueba: 120\n"
     ]
    }
   ],
   "source": [
    "X_train, X_test, y_train, y_test = model_selection.train_test_split(X, Y, test_size=0.4, random_state=42, stratify=Y)\n",
    "print(\"Tamaño de CE, CP: \", y_train.shape, y_test.shape)\n",
    "print(\"Observaciones de la clase positiva en entrenamiento: \" +str(sum(y_train)) +\" y en prueba: \" +str(sum(y_test)))"
   ]
  },
  {
   "cell_type": "markdown",
   "metadata": {},
   "source": [
    "A continuación ajustamos el modelo logístico y lo probamos:"
   ]
  },
  {
   "cell_type": "code",
   "execution_count": 16,
   "metadata": {},
   "outputs": [],
   "source": [
    "logT = LogisticRegression(penalty='none', max_iter=1500)\n",
    "logT.fit(X_train, y_train)\n",
    "y_tr = logT.predict(X_train)\n",
    "y_pred = logT.predict(X_test)"
   ]
  },
  {
   "cell_type": "markdown",
   "metadata": {},
   "source": [
    "Con menos datos para entrenar probablemente el algoritmo necesite más iteraciones:"
   ]
  },
  {
   "cell_type": "code",
   "execution_count": 17,
   "metadata": {},
   "outputs": [
    {
     "data": {
      "text/plain": [
       "array([860])"
      ]
     },
     "execution_count": 17,
     "metadata": {},
     "output_type": "execute_result"
    }
   ],
   "source": [
    "logT.n_iter_"
   ]
  },
  {
   "cell_type": "markdown",
   "metadata": {},
   "source": [
    "Examinemos los coeficientes del modelo y su desviación con respecto a la estimación anterior (que utilizaba todos los datos de la muestra)."
   ]
  },
  {
   "cell_type": "code",
   "execution_count": 18,
   "metadata": {},
   "outputs": [
    {
     "name": "stdout",
     "output_type": "stream",
     "text": [
      "[[ 2.67902306e-02  9.87686468e-05  3.31672995e-01 -2.46206736e-03\n",
      "  -5.59688764e-03  2.37481857e-01  4.12011853e-01  4.46556499e-01\n",
      "   1.66130175e-01 -4.17135325e-01 -1.06724928e+00  3.18324805e-01\n",
      "   4.07213242e-01 -1.92908533e-01 -2.17343700e-01 -1.18698375e+00\n",
      "   1.77960300e-01 -1.00420380e+00 -6.39911853e-01 -2.61312639e-01\n",
      "  -2.80214029e-01 -1.22060321e-01  1.53105450e-01  1.15081389e+00\n",
      "  -2.84222963e-03 -4.30327032e-02  7.15865018e-01  2.78803057e-01\n",
      "  -2.78985141e-01 -1.27419818e+00 -3.13182683e-01  7.64532071e-01\n",
      "  -2.35725715e-02 -2.15525714e-01 -1.16915362e+00 -2.27978099e-01\n",
      "   2.68989528e-01 -2.30230351e-01 -6.47949700e-01 -2.62507409e-01\n",
      "  -2.16498747e-01  2.95808473e-01 -9.51007657e-01 -5.41678339e-01\n",
      "  -2.62939788e-01 -2.61144912e-01  1.94065107e-01  4.65450273e-02\n",
      "  -6.54701136e-02 -8.52772846e-01  5.12701682e-01 -3.70290687e-01\n",
      "  -1.01410893e+00 -1.98725043e-01 -1.49834023e-01 -1.11796155e-01\n",
      "  -4.11342711e-01 -2.67769462e-01 -6.03928470e-01  5.07094933e-01\n",
      "  -1.37879287e+00]]\n"
     ]
    }
   ],
   "source": [
    "logT_coef = logT.coef_\n",
    "print(logT_coef)"
   ]
  },
  {
   "cell_type": "code",
   "execution_count": 19,
   "metadata": {},
   "outputs": [
    {
     "name": "stdout",
     "output_type": "stream",
     "text": [
      "[[ 1.90550193e-03  2.27209393e-05 -5.06594214e-02  1.16681035e-02\n",
      "  -1.15813379e-02  2.01966658e-02 -2.93368980e-01  1.49718593e-01\n",
      "  -2.63474558e-02  5.70258637e-02  6.87880747e-02  1.72692730e-01\n",
      "   1.84998158e-02  2.54524490e-02 -8.99604967e-02  1.22500577e-01\n",
      "   4.47801692e-01 -1.57898823e-01  3.68999990e-01  3.96936755e-02\n",
      "   4.77866168e-02  1.57866481e-01  1.21804378e-01 -5.42692391e-01\n",
      "  -1.97238391e-01 -3.69381522e-02 -3.12689801e-01 -1.65251399e-01\n",
      "   2.63574188e-01  7.38444740e-01 -2.74892653e-01 -7.21652455e-01\n",
      "   1.35084593e-01  1.89122005e-01  4.45405854e-01  2.01225078e-01\n",
      "   2.18224875e-02  1.37799929e-01  6.75224860e-02  2.20401729e-02\n",
      "   1.71293546e-01 -1.84036409e-03  7.97318940e-02  1.38439350e-01\n",
      "   1.38293904e-01  1.20791671e-02 -3.96273463e-02 -1.30997784e-01\n",
      "   1.20712530e-01  2.59470329e-01 -4.53442647e-01  2.01978913e-02\n",
      "   6.82429831e-01  1.98900642e-02  4.14521892e-02 -4.58608668e-03\n",
      "   1.92428909e-01  9.79685226e-02  1.51216553e-01 -3.50455995e-01\n",
      "   5.99641070e-01]]\n"
     ]
    }
   ],
   "source": [
    "print(log_coef-logT_coef)"
   ]
  },
  {
   "cell_type": "markdown",
   "metadata": {},
   "source": [
    "### Ejercicio 4.1\n",
    "\n",
    "Implemente un proceso de validación cruzada cambiando la semilla de las particiones de train (CE) y test (CP). Estimae la varianza de los estimadores y concluya si su *mejor* modelo es estable entre distintas particiones."
   ]
  },
  {
   "cell_type": "code",
   "execution_count": 20,
   "metadata": {},
   "outputs": [
    {
     "name": "stdout",
     "output_type": "stream",
     "text": [
      "[[-4.16418834e-03 -5.17798371e-05 -1.26122980e-01  3.68817490e-02\n",
      "   2.08010876e-02  1.21680239e-01  6.37481685e-01 -4.96358635e-01\n",
      "  -1.33790043e-01  8.56586430e-01 -5.37861946e-01 -4.21434809e-01\n",
      "  -1.52552186e-01  1.53426205e-01  2.60716474e-01 -1.51579880e-01\n",
      "  -6.45316283e-01  2.87185978e-02 -6.43380405e-01 -6.22255519e-02\n",
      "  -4.62645258e-02  2.15675210e-01 -2.54868324e-01  7.25618814e-01\n",
      "   3.07054835e-01  6.35634383e-02 -1.17515124e-01  3.44900753e-01\n",
      "  -2.26172568e-02 -8.22360875e-01  3.06168308e-01  4.14819517e-01\n",
      "  -1.54816006e-01 -2.29105483e-01 -2.22400067e-01 -1.19922155e-01\n",
      "  -5.55440378e-01 -6.23571864e-03 -2.13675805e-01  4.63927707e-01\n",
      "   9.19190454e-02 -2.39940558e-01 -1.63402682e-01 -2.06617797e-01\n",
      "  -1.10770000e-01 -7.06158866e-02  7.65794886e-02  2.37092540e-01\n",
      "  -2.12839800e-01 -3.35676934e-01  1.32066449e-02  2.15732132e-01\n",
      "  -5.40362972e-01  1.78471671e-02  8.25952873e-02 -4.05769274e-02\n",
      "  -3.71289722e-01 -2.95167881e-01 -1.62563134e-02  3.92536834e-01\n",
      "  -7.03961028e-01]]\n"
     ]
    },
    {
     "name": "stderr",
     "output_type": "stream",
     "text": [
      "C:\\Users\\Fernando\\Anaconda3\\lib\\site-packages\\sklearn\\linear_model\\_logistic.py:764: ConvergenceWarning: lbfgs failed to converge (status=1):\n",
      "STOP: TOTAL NO. of ITERATIONS REACHED LIMIT.\n",
      "\n",
      "Increase the number of iterations (max_iter) or scale the data as shown in:\n",
      "    https://scikit-learn.org/stable/modules/preprocessing.html\n",
      "Please also refer to the documentation for alternative solver options:\n",
      "    https://scikit-learn.org/stable/modules/linear_model.html#logistic-regression\n",
      "  extra_warning_msg=_LOGISTIC_SOLVER_CONVERGENCE_MSG)\n"
     ]
    },
    {
     "name": "stdout",
     "output_type": "stream",
     "text": [
      "[[ 5.82803969e-03 -5.65971847e-06  1.29708442e-01  1.45312689e-02\n",
      "   1.55453714e-02  2.42869877e-01  2.72665669e-01 -1.63852911e-01\n",
      "  -2.30825069e-01  1.77978208e-01 -1.41351547e-01 -2.25540120e-01\n",
      "  -1.18855278e-01  3.25607348e-02 -1.13016623e-01  6.67999666e-02\n",
      "  -3.15564873e-01  4.19249621e-01 -3.92407475e-01 -2.94475464e-01\n",
      "  -1.27836683e-01 -2.52404303e-01  1.01203462e-01  3.31281727e-01\n",
      "   2.55472064e-01 -8.25693966e-02  1.10507380e-01  3.10153296e-02\n",
      "  -1.90200978e-01 -2.44629190e-01 -6.47438605e-02  6.91971074e-01\n",
      "  -1.68011298e-01 -2.50823527e-01 -4.95190523e-01 -1.35997046e-01\n",
      "   1.03334954e-01 -3.24492701e-01 -3.21092368e-02 -1.04784336e-01\n",
      "  -5.06742317e-01  7.45403843e-02  7.41506126e-02 -1.08697761e-01\n",
      "   1.05706792e-01 -2.37950790e-01 -1.17109560e-01  3.37849529e-01\n",
      "  -3.03311783e-01 -3.92589066e-01  3.58684463e-01 -1.63060814e-01\n",
      "  -5.53674968e-01 -1.01254719e-01 -1.59900622e-01  1.87056003e-01\n",
      "  -2.83951982e-01 -2.26452107e-02 -3.35406109e-01  2.69593964e-01\n",
      "  -6.27645284e-01]]\n",
      "[[ 1.89521762e-03 -3.18807613e-05  8.07874580e-02 -9.42550427e-02\n",
      "   1.03654348e-02  1.47447384e-01  5.48064746e-01 -5.66881207e-02\n",
      "   4.48528851e-03 -4.19945027e-01  1.13619868e-01 -1.95193933e-01\n",
      "  -9.34215718e-02  1.34880482e-01 -9.02426109e-02 -1.14550358e-01\n",
      "  -4.40340508e-01 -1.21993977e-01 -2.48333735e-01 -7.99506261e-02\n",
      "  -1.83657197e-01 -1.09573544e-01  6.05336843e-01  4.11792456e-02\n",
      "   1.10403423e-01  6.84020832e-02  2.98508507e-01  2.58725006e-02\n",
      "  -5.95064686e-01 -5.80396323e-01  4.92552010e-01  5.71066607e-01\n",
      "   7.21573521e-02 -2.21903660e-01 -6.11397631e-01 -1.68450659e-01\n",
      "  -3.31668138e-01  5.67420562e-02  7.32842531e-02 -1.56886162e-01\n",
      "  -2.02593120e-01  1.92011891e-01 -3.47946762e-01 -2.37692058e-01\n",
      "  -2.32037293e-01  1.45499801e-01 -3.42984407e-02 -3.16744366e-02\n",
      "  -8.27108426e-02 -2.44142712e-01  3.59681436e-01 -2.46136312e-01\n",
      "  -4.72073116e-01  2.29178784e-01 -3.23488903e-01 -1.00549032e-01\n",
      "  -1.63668840e-01 -1.46254435e-01 -2.12273557e-01  2.39963553e-01\n",
      "  -5.98491544e-01]]\n",
      "[[-2.11110922e-02 -2.38368027e-05 -1.09201814e-01  1.00167680e-01\n",
      "  -8.99418854e-03 -6.37978028e-02 -1.55000366e-01 -1.95737302e-01\n",
      "  -3.03805617e-01  5.47733754e-01  2.36903850e-01  5.88151740e-01\n",
      "  -6.99962568e-01  1.59065703e-01  3.33700538e-01 -9.58607254e-02\n",
      "  -2.50677270e-01  9.06471310e-01 -2.60897450e-01 -2.18156131e-01\n",
      "   2.86202304e-01 -6.95423636e-01 -3.17402647e-01  2.05371050e-01\n",
      "   1.73249855e-01  4.56357303e-01  2.39392071e-01 -7.43398944e-02\n",
      "  -4.85089041e-02 -1.38959271e-01  3.07510685e-01  1.24394430e-01\n",
      "   2.99769569e-01  2.40070905e-01 -5.71705265e-01  1.92565048e-01\n",
      "   6.73413379e-02 -2.24328096e-01  5.72790411e-01 -1.30708966e-01\n",
      "  -2.21610919e-01 -6.19694549e-01  1.12640015e+00 -1.30778388e-01\n",
      "   2.68383239e-01  1.43937066e-01  3.55277031e-03  1.57219693e-01\n",
      "   5.91014174e-02  6.87735767e-02  4.10486672e-01 -3.22436348e-02\n",
      "  -9.31483501e-02  1.14275547e+00 -2.05491449e-01 -1.28424347e-01\n",
      "  -5.23744987e-01  1.49855337e-01  1.35239350e-01  4.13237646e-01\n",
      "  -1.28142959e-01]]\n",
      "[[-7.93702990e-03 -2.42694743e-05 -1.48543435e-01 -4.27801411e-03\n",
      "   8.45875512e-03  1.13026044e-01  2.67560502e-02 -1.94199622e-01\n",
      "  -1.41089560e-01  3.02445766e-01 -5.75747457e-02 -6.58115582e-01\n",
      "   5.42841628e-01  8.31693917e-02 -5.24785033e-02 -5.83509567e-03\n",
      "  -9.04072431e-02  2.62728648e-03  1.13005097e-01 -7.94267578e-02\n",
      "   5.46803300e-02 -1.77698366e-01 -4.87068311e-01  4.19293145e-01\n",
      "   4.18728459e-01 -2.64151801e-01  2.40174678e-01  8.10801652e-02\n",
      "  -5.34495800e-02 -1.04875282e+00  6.90529394e-01  4.97057032e-01\n",
      "  -2.59724118e-01  5.12473729e-02 -3.64465707e-01 -1.45327414e-02\n",
      "  -5.02410080e-01  3.72867616e-03  3.33789835e-01  7.44734078e-02\n",
      "  -2.18079210e-01  1.09981210e-01  1.76798389e-02 -2.82100674e-01\n",
      "   1.56011721e-01 -4.37290079e-02  7.93997987e-02  3.31286636e-02\n",
      "  -7.75658936e-02 -4.59809314e-02  4.76762066e-01 -2.74346694e-02\n",
      "  -5.39745558e-01  2.05734008e-01  2.35781435e-01 -4.76303413e-02\n",
      "  -4.84303263e-01 -1.73798804e-01  8.33806425e-02  5.83313384e-01\n",
      "  -6.73731546e-01]]\n",
      "[0.0010625000000000007, 0.0027124999999999988, 0.0003374999999999998, 0.0006875000000000007, 0.0012249999999999995]\n"
     ]
    }
   ],
   "source": [
    "from sklearn.model_selection import KFold\n",
    "\n",
    "from sklearn.model_selection import cross_val_score\n",
    "\n",
    "accuracy_scores = []\n",
    "\n",
    "for semilla in range(10,60,10):\n",
    "    X_train, X_test, y_train, y_test = model_selection.train_test_split(X, Y, test_size=0.4, random_state=semilla, stratify=Y)\n",
    "    logT = LogisticRegression(penalty='none', max_iter=1500)\n",
    "    logT.fit(X_train, y_train)\n",
    "    y_tr = logT.predict(X_train)\n",
    "    y_pred = logT.predict(X_test)\n",
    "    accuracy_scores.append(cross_val_score(logT,X_test,y_test,cv=5,scoring='accuracy').var())\n",
    "    \n",
    "    log_coef_iter = logT.coef_\n",
    "    \n",
    "    dif = logT_coef - log_coef_iter\n",
    "    \n",
    "    print(dif)\n",
    "\n",
    "print(accuracy_scores)"
   ]
  },
  {
   "cell_type": "markdown",
   "metadata": {},
   "source": [
    "Podemos ver que en terminos absolutos la varianza dentro de las distintar participaciones es pequeña, por lo cual podemos decir que nuestro modelo es estable entre las distintas particiones. A pesar de esto, vemos que en terminos relativos al compararlos sí varían, por lo cual en términos relativos no se puede indicar ante las diferentes particiones el modelo tenga varianza consistente o estable."
   ]
  },
  {
   "cell_type": "markdown",
   "metadata": {},
   "source": [
    "## 5. Evaluacion de los modelos\n",
    "Hasta ahora hemos estimado los parámetros del modelo logístico. Pero no hemos examinado si la solución es satisfactoria. A continuación examinemos el desempeño de los modelos a partir de su matriz de confusión: "
   ]
  },
  {
   "cell_type": "code",
   "execution_count": 21,
   "metadata": {},
   "outputs": [
    {
     "name": "stdout",
     "output_type": "stream",
     "text": [
      "[[235  45]\n",
      " [ 71  49]]\n"
     ]
    }
   ],
   "source": [
    "from sklearn.metrics import confusion_matrix\n",
    "\n",
    "# Calculamos la matriz de confusión para la prediccion\n",
    "cm_log = confusion_matrix(y_test, y_pred)\n",
    "np.set_printoptions(precision=2)\n",
    "print(cm_log)"
   ]
  },
  {
   "cell_type": "markdown",
   "metadata": {},
   "source": [
    "Podemos mejorar esta visualización, añadiendo etiquetas para lo que es predicción y lo que es observado en la muestra:"
   ]
  },
  {
   "cell_type": "code",
   "execution_count": 22,
   "metadata": {},
   "outputs": [],
   "source": [
    "def plot_confusion_matrix(cm, title='Matriz de confusión', cmap=plt.cm.Blues):\n",
    "    plt.imshow(cm, interpolation='nearest', cmap=cmap)\n",
    "    plt.title(title)\n",
    "    plt.colorbar()\n",
    "    tick_marks = np.arange(2)\n",
    "    plt.xticks(tick_marks, labels, rotation=45)\n",
    "    plt.yticks(tick_marks, labels)\n",
    "    plt.tight_layout()\n",
    "    plt.ylabel('Etiqueta verdadera')\n",
    "    plt.xlabel('Etiqueta estimada')"
   ]
  },
  {
   "cell_type": "code",
   "execution_count": 23,
   "metadata": {},
   "outputs": [
    {
     "data": {
      "image/png": "[encoded data removed]",
      "text/plain": [
       "<Figure size 432x288 with 2 Axes>"
      ]
     },
     "metadata": {
      "needs_background": "light"
     },
     "output_type": "display_data"
    }
   ],
   "source": [
    "labels=['Bueno (Default=0)' ,'Malo (Default=1)']\n",
    "\n",
    "plt.figure()\n",
    "plot_confusion_matrix(cm_log)"
   ]
  },
  {
   "cell_type": "markdown",
   "metadata": {},
   "source": [
    "Podemos resumir estos resultados, por ejemplo mediante la métrica de *exactitud* o *accuracy*, la cual mide la proporción de aciertos sobre el total de casos.\n",
    "\n",
    "Para entrenamiento:"
   ]
  },
  {
   "cell_type": "code",
   "execution_count": 24,
   "metadata": {},
   "outputs": [
    {
     "data": {
      "text/plain": [
       "0.81"
      ]
     },
     "execution_count": 24,
     "metadata": {},
     "output_type": "execute_result"
    }
   ],
   "source": [
    "float((y_tr == y_train).mean())"
   ]
  },
  {
   "cell_type": "markdown",
   "metadata": {},
   "source": [
    "Para predicción:"
   ]
  },
  {
   "cell_type": "code",
   "execution_count": 25,
   "metadata": {},
   "outputs": [
    {
     "data": {
      "text/plain": [
       "0.71"
      ]
     },
     "execution_count": 25,
     "metadata": {},
     "output_type": "execute_result"
    }
   ],
   "source": [
    "float((y_pred == y_test).mean())"
   ]
  },
  {
   "cell_type": "markdown",
   "metadata": {},
   "source": [
    "### Ejercicio 5.1\n",
    "\n",
    "Calcule una métrica de desempeño que tome en cuenta el coste de errar, donde el coste de predecir que un mal cliente es bueno es 5 veces más alto que el de confundir un buen cliente con uno malo."
   ]
  },
  {
   "cell_type": "code",
   "execution_count": 26,
   "metadata": {},
   "outputs": [
    {
     "data": {
      "text/plain": [
       "1308503.1999999997"
      ]
     },
     "execution_count": 26,
     "metadata": {},
     "output_type": "execute_result"
    }
   ],
   "source": [
    "promedio = X['amount'].mean()\n",
    "\n",
    "Metrica_Desemp = cm_log[1][0]*5*promedio + cm_log[0][1]*promedio\n",
    "\n",
    "Metrica_Desemp\n"
   ]
  },
  {
   "cell_type": "markdown",
   "metadata": {},
   "source": [
    "Establecimos la métrica de desempeño tomando como base el costo promedio de los montos adeudados. La razón de esto es que si un cliente entra en default se supone que no tendrá la capacidad de pagar lo que adeuda. Este costo de equivocarse lo multiplicamos por la cantidad de clientes en cada categoría y la relación de veces el costo de acuerdo con lo estipulado. En resumen se puede decir que el costo de equivocarse se calcula en 1.308.503,2."
   ]
  },
  {
   "cell_type": "markdown",
   "metadata": {},
   "source": [
    "### Justicia algorítmica\n",
    "\n",
    "Veamos cómo se comporta el modelo de acuerdo con el origen (extranjero o local) del cliente. Por ejemplo, fijémonos en el balance inicial de los datos de la muestra:"
   ]
  },
  {
   "cell_type": "code",
   "execution_count": 27,
   "metadata": {},
   "outputs": [],
   "source": [
    "credit_2 = credit_1.copy()\n",
    "credit_3 = credit_2.loc[credit_2['foreign_A201'] == 1]\n",
    "X3 = credit_3.iloc[:, 1:62]\n",
    "Y3 = credit_3.iloc[:, 0]\n",
    "\n",
    "credit_4 = credit_2.loc[credit_2['foreign_A201'] == 0]\n",
    "X4 = credit_4.iloc[:, 1:62]\n",
    "Y4 = credit_4.iloc[:, 0]"
   ]
  },
  {
   "cell_type": "code",
   "execution_count": 28,
   "metadata": {},
   "outputs": [
    {
     "name": "stdout",
     "output_type": "stream",
     "text": [
      "El numero de clientes extranjeros de la muestra: 963 y los locales: 37\n"
     ]
    }
   ],
   "source": [
    "print(\"El numero de clientes extranjeros de la muestra: \" +str(X3.shape[0]) +\" y los locales: \" +str(X4.shape[0]))"
   ]
  },
  {
   "cell_type": "markdown",
   "metadata": {},
   "source": [
    "## Pregunta 5.2\n",
    "\n",
    "De los clientes locales cuantos han tenido Default?"
   ]
  },
  {
   "cell_type": "code",
   "execution_count": 29,
   "metadata": {},
   "outputs": [
    {
     "data": {
      "text/plain": [
       "(4, 62)"
      ]
     },
     "execution_count": 29,
     "metadata": {},
     "output_type": "execute_result"
    }
   ],
   "source": [
    "locales = credit_2.loc[credit_2['foreign_A201'] == 0]\n",
    "locales_def = locales.loc[credit_2['Default'] == 1]\n",
    "locales_def.shape"
   ]
  },
  {
   "cell_type": "markdown",
   "metadata": {},
   "source": [
    "Podemos observar que de los 37 clientes locales, solo 4 han entrado en default. Sin duda alguna el tamaño de la muestra de clientes extranjeros es muy baja respeco a los extranjeros. Además de ser pequeña, implica que es poco probable que un cliente local entre en default. Esto puede introducir sesgos al modelo que pueden inducir a errores por la poca cantidad de datos además del evidente desbalance."
   ]
  },
  {
   "cell_type": "markdown",
   "metadata": {},
   "source": [
    "Vemos que ya hay un sesgo en los datos de entrenamiento. Por lo tanto, podemos esperar que esto se vea reflejado en nuestro modelo:"
   ]
  },
  {
   "cell_type": "code",
   "execution_count": 30,
   "metadata": {},
   "outputs": [],
   "source": [
    "y_pred_f = logT.predict(X3)\n",
    "y_pred_l = logT.predict(X4)"
   ]
  },
  {
   "cell_type": "markdown",
   "metadata": {},
   "source": [
    "Veamos otra manera de visualizar la matriz de confusion:"
   ]
  },
  {
   "cell_type": "code",
   "execution_count": 31,
   "metadata": {},
   "outputs": [
    {
     "name": "stdout",
     "output_type": "stream",
     "text": [
      "Extranjeros:\n"
     ]
    },
    {
     "data": {
      "image/png": "[encoded data removed]",
      "text/plain": [
       "<Figure size 432x288 with 2 Axes>"
      ]
     },
     "metadata": {
      "needs_background": "light"
     },
     "output_type": "display_data"
    },
    {
     "name": "stdout",
     "output_type": "stream",
     "text": [
      "Locales:\n"
     ]
    },
    {
     "data": {
      "image/png": "[encoded data removed]",
      "text/plain": [
       "<Figure size 432x288 with 2 Axes>"
      ]
     },
     "metadata": {
      "needs_background": "light"
     },
     "output_type": "display_data"
    }
   ],
   "source": [
    "from sklearn.metrics import plot_confusion_matrix\n",
    "\n",
    "print(\"Extranjeros:\")\n",
    "plot_confusion_matrix(logT, X3, Y3, normalize='all')  \n",
    "plt.show() \n",
    "\n",
    "print(\"Locales:\")\n",
    "plot_confusion_matrix(logT, X4, Y4, normalize='all')  \n",
    "plt.show()"
   ]
  },
  {
   "cell_type": "markdown",
   "metadata": {},
   "source": [
    "Y las métricas de exactitud:"
   ]
  },
  {
   "cell_type": "code",
   "execution_count": 32,
   "metadata": {},
   "outputs": [
    {
     "name": "stdout",
     "output_type": "stream",
     "text": [
      "La exactitud para el usuario extranjero: 0.7663551401869159\n",
      "La exactitud para el usuario local: 0.8648648648648649\n"
     ]
    }
   ],
   "source": [
    "print(\"La exactitud para el usuario extranjero:\", float((y_pred_f == Y3).mean()))\n",
    "print(\"La exactitud para el usuario local:\", float((y_pred_l == Y4).mean()))"
   ]
  },
  {
   "cell_type": "markdown",
   "metadata": {},
   "source": [
    "### Ejercicio 5.3\n",
    "\n",
    "Proponga un modelo de clasificación que detecte clientes con un alto riesgo de Default, teniendo en cuenta el costo de clasificar a un cliente erroneamente  junto con la \"equidad algoritmica\"."
   ]
  },
  {
   "cell_type": "code",
   "execution_count": 33,
   "metadata": {},
   "outputs": [
    {
     "data": {
      "image/png": "[encoded data removed]",
      "text/plain": [
       "<Figure size 432x288 with 1 Axes>"
      ]
     },
     "metadata": {
      "needs_background": "light"
     },
     "output_type": "display_data"
    }
   ],
   "source": [
    "from sklearn import metrics\n",
    "base_prop = credit_1.copy()\n",
    "base_prop = base_prop.drop(['foreign_A201','foreign_A202'], axis=1)\n",
    "\n",
    "X = base_prop.iloc[:, 1:61]#[['duration','amount','installment','residence','age','cards','liable']]\n",
    "Y = base_prop.iloc[:, 0]\n",
    "\n",
    "X_train, X_test, y_train, y_test = model_selection.train_test_split(X, Y, test_size=0.4, random_state=42, stratify=Y)\n",
    "logT = LogisticRegression(penalty='none', max_iter=1500)\n",
    "logT.fit(X_train, y_train)\n",
    "\n",
    "prediccion = logT.predict(X_train)\n",
    "\n",
    "fpr, tpr, threshold = metrics.roc_curve(y_train, prediccion)\n",
    "roc_auc = metrics.auc(fpr, tpr)\n",
    "plt.title('Receiver Operating Characteristic')\n",
    "plt.plot(fpr, tpr, 'b', label = 'AUC = %0.2f' % roc_auc)\n",
    "plt.legend(loc = 'lower right')\n",
    "plt.plot([0, 1], [0, 1],'r--')\n",
    "plt.xlim([0, 1])\n",
    "plt.ylim([0, 1])\n",
    "plt.ylabel('True Positive Rate')\n",
    "plt.xlabel('False Positive Rate')\n",
    "plt.show()"
   ]
  },
  {
   "cell_type": "code",
   "execution_count": 34,
   "metadata": {},
   "outputs": [
    {
     "name": "stdout",
     "output_type": "stream",
     "text": [
      "              precision    recall  f1-score   support\n",
      "\n",
      "  No_Default       0.91      0.61      0.74       420\n",
      "     Default       0.49      0.87      0.63       180\n",
      "\n",
      "    accuracy                           0.69       600\n",
      "   macro avg       0.70      0.74      0.68       600\n",
      "weighted avg       0.79      0.69      0.70       600\n",
      "\n"
     ]
    }
   ],
   "source": [
    "from sklearn.metrics import classification_report\n",
    "threshold = 0.2\n",
    "predicted_proba = logT.predict_proba(X_train)\n",
    "predicted = (predicted_proba [:,1] >= threshold).astype('int')\n",
    "target_names = ['No_Default', 'Default']\n",
    "print(classification_report(y_train, predicted, target_names=target_names))"
   ]
  },
  {
   "cell_type": "markdown",
   "metadata": {},
   "source": [
    "Para el modelo de clasificación teniendo en cuenta la \"equidad algoritmica\" nuestra propuesta fue eliminar la variable dummie que identifica si el usuario es extrajero o local, ya que con los análisis realizados en la sección 5.2 se evidencia un sesgo causado por esta variable, con lo cual tenemos \"Biases caused by \"proxy\" attributes for sensitive attributes\" ya que es un atributo sensible porque puede ocasionar discriminación a partir del origen del usuario. Adicionalmente, para tener en cuenta el costo de clasificar a un cliente erroneamente, modificamos el threshold para aumentar la sensibilidad y se detecten efectivamente los casos positivos (clientes con alta probabilidad de riesgo de default).\n",
    "\n",
    "En termino generales se puede observar que el AUC del modelo no se afecta significativamente al eliminar la variable que identifica si el cliente es local o extranjero, teniendo en cuenta que se ajusta el threshold para minimizar el costo que el modelo se equivoque al clasificar."
   ]
  },
  {
   "cell_type": "markdown",
   "metadata": {},
   "source": [
    "### Lecturas avanzadas\n",
    "\n",
    "Para ler más sobre la ética algoritmica puede ver: Pessach, D., Shmueli, E. (2020) Algorithmic fairness. https://arxiv.org/abs/2001.09784 "
   ]
  }
 ],
 "metadata": {
  "kernelspec": {
   "display_name": "Python 3",
   "language": "python",
   "name": "python3"
  },
  "language_info": {
   "codemirror_mode": {
    "name": "ipython",
    "version": 3
   },
   "file_extension": ".py",
   "mimetype": "text/x-python",
   "name": "python",
   "nbconvert_exporter": "python",
   "pygments_lexer": "ipython3",
   "version": "3.7.4"
  }
 },
 "nbformat": 4,
 "nbformat_minor": 4
}
